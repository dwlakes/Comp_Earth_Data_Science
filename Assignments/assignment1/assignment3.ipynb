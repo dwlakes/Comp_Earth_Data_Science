{
 "cells": [
  {
   "cell_type": "code",
   "execution_count": 1,
   "metadata": {},
   "outputs": [
    {
     "name": "stdout",
     "output_type": "stream",
     "text": [
      "4554.245116202848\n",
      "4554.245116202848\n"
     ]
    },
    {
     "data": {
      "text/html": [
       "<div>\n",
       "<style scoped>\n",
       "    .dataframe tbody tr th:only-of-type {\n",
       "        vertical-align: middle;\n",
       "    }\n",
       "\n",
       "    .dataframe tbody tr th {\n",
       "        vertical-align: top;\n",
       "    }\n",
       "\n",
       "    .dataframe thead th {\n",
       "        text-align: right;\n",
       "    }\n",
       "</style>\n",
       "<table border=\"1\" class=\"dataframe\">\n",
       "  <thead>\n",
       "    <tr style=\"text-align: right;\">\n",
       "      <th></th>\n",
       "      <th>Year</th>\n",
       "      <th>Month</th>\n",
       "      <th>Day</th>\n",
       "      <th>Time</th>\n",
       "      <th>Lat</th>\n",
       "      <th>Lon</th>\n",
       "      <th>Depth</th>\n",
       "      <th>Mag</th>\n",
       "      <th>Region</th>\n",
       "      <th>Timestamp</th>\n",
       "    </tr>\n",
       "  </thead>\n",
       "  <tbody>\n",
       "    <tr>\n",
       "      <th>0</th>\n",
       "      <td>2024</td>\n",
       "      <td>1</td>\n",
       "      <td>9</td>\n",
       "      <td>16:47:25</td>\n",
       "      <td>-21.9201</td>\n",
       "      <td>-67.2530</td>\n",
       "      <td>179.4</td>\n",
       "      <td>5.4</td>\n",
       "      <td>CHILE-BOLIVIA BORDER REGION</td>\n",
       "      <td>1704818845</td>\n",
       "    </tr>\n",
       "    <tr>\n",
       "      <th>1</th>\n",
       "      <td>2024</td>\n",
       "      <td>1</td>\n",
       "      <td>9</td>\n",
       "      <td>09:02:13</td>\n",
       "      <td>19.0323</td>\n",
       "      <td>-66.6045</td>\n",
       "      <td>24.0</td>\n",
       "      <td>2.7</td>\n",
       "      <td>PUERTO RICO REGION</td>\n",
       "      <td>1704790933</td>\n",
       "    </tr>\n",
       "    <tr>\n",
       "      <th>2</th>\n",
       "      <td>2024</td>\n",
       "      <td>1</td>\n",
       "      <td>9</td>\n",
       "      <td>08:54:54</td>\n",
       "      <td>17.9448</td>\n",
       "      <td>-66.9608</td>\n",
       "      <td>15.0</td>\n",
       "      <td>3.0</td>\n",
       "      <td>PUERTO RICO REGION</td>\n",
       "      <td>1704790494</td>\n",
       "    </tr>\n",
       "    <tr>\n",
       "      <th>3</th>\n",
       "      <td>2024</td>\n",
       "      <td>1</td>\n",
       "      <td>9</td>\n",
       "      <td>08:34:08</td>\n",
       "      <td>18.0395</td>\n",
       "      <td>-65.4208</td>\n",
       "      <td>13.3</td>\n",
       "      <td>2.9</td>\n",
       "      <td>PUERTO RICO REGION</td>\n",
       "      <td>1704789248</td>\n",
       "    </tr>\n",
       "    <tr>\n",
       "      <th>4</th>\n",
       "      <td>2024</td>\n",
       "      <td>1</td>\n",
       "      <td>9</td>\n",
       "      <td>06:17:00</td>\n",
       "      <td>19.1411</td>\n",
       "      <td>-66.6203</td>\n",
       "      <td>25.0</td>\n",
       "      <td>3.5</td>\n",
       "      <td>PUERTO RICO REGION</td>\n",
       "      <td>1704781020</td>\n",
       "    </tr>\n",
       "    <tr>\n",
       "      <th>5</th>\n",
       "      <td>2024</td>\n",
       "      <td>1</td>\n",
       "      <td>9</td>\n",
       "      <td>05:34:06</td>\n",
       "      <td>18.0108</td>\n",
       "      <td>-66.7283</td>\n",
       "      <td>39.8</td>\n",
       "      <td>2.7</td>\n",
       "      <td>PUERTO RICO REGION</td>\n",
       "      <td>1704778446</td>\n",
       "    </tr>\n",
       "    <tr>\n",
       "      <th>6</th>\n",
       "      <td>2024</td>\n",
       "      <td>1</td>\n",
       "      <td>9</td>\n",
       "      <td>05:21:36</td>\n",
       "      <td>19.1960</td>\n",
       "      <td>-66.6110</td>\n",
       "      <td>29.3</td>\n",
       "      <td>3.4</td>\n",
       "      <td>PUERTO RICO REGION</td>\n",
       "      <td>1704777696</td>\n",
       "    </tr>\n",
       "    <tr>\n",
       "      <th>7</th>\n",
       "      <td>2024</td>\n",
       "      <td>1</td>\n",
       "      <td>9</td>\n",
       "      <td>04:54:42</td>\n",
       "      <td>19.1487</td>\n",
       "      <td>-66.6405</td>\n",
       "      <td>25.4</td>\n",
       "      <td>3.4</td>\n",
       "      <td>PUERTO RICO REGION</td>\n",
       "      <td>1704776082</td>\n",
       "    </tr>\n",
       "    <tr>\n",
       "      <th>8</th>\n",
       "      <td>2024</td>\n",
       "      <td>1</td>\n",
       "      <td>9</td>\n",
       "      <td>04:18:42</td>\n",
       "      <td>18.1148</td>\n",
       "      <td>-66.9947</td>\n",
       "      <td>7.9</td>\n",
       "      <td>2.3</td>\n",
       "      <td>PUERTO RICO REGION</td>\n",
       "      <td>1704773922</td>\n",
       "    </tr>\n",
       "    <tr>\n",
       "      <th>9</th>\n",
       "      <td>2024</td>\n",
       "      <td>1</td>\n",
       "      <td>9</td>\n",
       "      <td>04:04:57</td>\n",
       "      <td>-22.5793</td>\n",
       "      <td>-66.0757</td>\n",
       "      <td>268.7</td>\n",
       "      <td>4.8</td>\n",
       "      <td>JUJUY PROVINCE, ARGENTINA</td>\n",
       "      <td>1704773097</td>\n",
       "    </tr>\n",
       "  </tbody>\n",
       "</table>\n",
       "</div>"
      ],
      "text/plain": [
       "   Year  Month  Day      Time      Lat      Lon  Depth  Mag  \\\n",
       "0  2024      1    9  16:47:25 -21.9201 -67.2530  179.4  5.4   \n",
       "1  2024      1    9  09:02:13  19.0323 -66.6045   24.0  2.7   \n",
       "2  2024      1    9  08:54:54  17.9448 -66.9608   15.0  3.0   \n",
       "3  2024      1    9  08:34:08  18.0395 -65.4208   13.3  2.9   \n",
       "4  2024      1    9  06:17:00  19.1411 -66.6203   25.0  3.5   \n",
       "5  2024      1    9  05:34:06  18.0108 -66.7283   39.8  2.7   \n",
       "6  2024      1    9  05:21:36  19.1960 -66.6110   29.3  3.4   \n",
       "7  2024      1    9  04:54:42  19.1487 -66.6405   25.4  3.4   \n",
       "8  2024      1    9  04:18:42  18.1148 -66.9947    7.9  2.3   \n",
       "9  2024      1    9  04:04:57 -22.5793 -66.0757  268.7  4.8   \n",
       "\n",
       "                        Region   Timestamp  \n",
       "0  CHILE-BOLIVIA BORDER REGION  1704818845  \n",
       "1           PUERTO RICO REGION  1704790933  \n",
       "2           PUERTO RICO REGION  1704790494  \n",
       "3           PUERTO RICO REGION  1704789248  \n",
       "4           PUERTO RICO REGION  1704781020  \n",
       "5           PUERTO RICO REGION  1704778446  \n",
       "6           PUERTO RICO REGION  1704777696  \n",
       "7           PUERTO RICO REGION  1704776082  \n",
       "8           PUERTO RICO REGION  1704773922  \n",
       "9    JUJUY PROVINCE, ARGENTINA  1704773097  "
      ]
     },
     "execution_count": 1,
     "metadata": {},
     "output_type": "execute_result"
    }
   ],
   "source": [
    "import pandas as pd\n",
    "import numpy as np\n",
    "import matplotlib.pyplot as plt\n",
    "import calc_dist as calc_dist \n",
    "\n",
    "df = pd.read_csv('IEB_export.csv')\n",
    "\n",
    "df"
   ]
  },
  {
   "cell_type": "code",
   "execution_count": null,
   "metadata": {},
   "outputs": [],
   "source": []
  },
  {
   "cell_type": "code",
   "execution_count": 4,
   "metadata": {},
   "outputs": [
    {
     "name": "stdout",
     "output_type": "stream",
     "text": [
      "-21.9201 -67.253\n",
      "19.0323 -66.6045\n",
      "4554.245116202848\n",
      "4554.245116202848\n"
     ]
    },
    {
     "data": {
      "text/plain": [
       "4554.245116202848"
      ]
     },
     "execution_count": 4,
     "metadata": {},
     "output_type": "execute_result"
    }
   ],
   "source": [
    "longitude = np.array(df['Lon'])\n",
    "latitude = np.array(df['Lat'])\n",
    "depth = np.array(df['Depth'])\n",
    "print(latitude[0], longitude[0])\n",
    "print(latitude[1], longitude[1])\n",
    "point1 = (latitude[0], longitude[0])\n",
    "point2 = (latitude[1], longitude[1])\n",
    "calc_dist.great_circle(point1,point2)"
   ]
  },
  {
   "cell_type": "code",
   "execution_count": 3,
   "metadata": {},
   "outputs": [
    {
     "data": {
      "text/plain": [
       "Text(0, 0.5, 'Latitude')"
      ]
     },
     "execution_count": 3,
     "metadata": {},
     "output_type": "execute_result"
    },
    {
     "data": {
      "image/png": "[encoded data removed]",
      "text/plain": [
       "<Figure size 640x480 with 1 Axes>"
      ]
     },
     "metadata": {},
     "output_type": "display_data"
    }
   ],
   "source": [
    "plt.scatter(longitude, latitude, color = 'red', marker= '^')\n",
    "plt.xlabel('Longitude')\n",
    "plt.ylabel('Latitude')"
   ]
  },
  {
   "cell_type": "code",
   "execution_count": null,
   "metadata": {},
   "outputs": [],
   "source": []
  }
 ],
 "metadata": {
  "kernelspec": {
   "display_name": "pangeo",
   "language": "python",
   "name": "python3"
  },
  "language_info": {
   "codemirror_mode": {
    "name": "ipython",
    "version": 3
   },
   "file_extension": ".py",
   "mimetype": "text/x-python",
   "name": "python",
   "nbconvert_exporter": "python",
   "pygments_lexer": "ipython3",
   "version": "3.11.7"
  }
 },
 "nbformat": 4,
 "nbformat_minor": 2
}
