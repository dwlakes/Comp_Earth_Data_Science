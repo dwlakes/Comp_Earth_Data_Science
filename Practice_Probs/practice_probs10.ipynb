{
 "cells": [
  {
   "cell_type": "code",
   "execution_count": 6,
   "metadata": {},
   "outputs": [
    {
     "name": "stdout",
     "output_type": "stream",
     "text": [
      "Width: 1\n",
      "Length: 4\n",
      "Area: 4\n",
      "Perimeter: 10\n"
     ]
    }
   ],
   "source": [
    "import Shapes as S \n",
    "from copy import deepcopy\n",
    "rect = S.Rectange(1,4)\n",
    "print(rect)"
   ]
  },
  {
   "cell_type": "code",
   "execution_count": 2,
   "metadata": {},
   "outputs": [
    {
     "name": "stdout",
     "output_type": "stream",
     "text": [
      "Width: 4\n",
      "Length: 4\n",
      "Area: 16\n",
      "Perimeter: 16\n"
     ]
    }
   ],
   "source": [
    "rect.width = 4\n",
    "print(rect)"
   ]
  },
  {
   "cell_type": "code",
   "execution_count": 3,
   "metadata": {},
   "outputs": [
    {
     "name": "stdout",
     "output_type": "stream",
     "text": [
      "16\n"
     ]
    }
   ],
   "source": [
    "print(rect.area())"
   ]
  },
  {
   "cell_type": "code",
   "execution_count": 4,
   "metadata": {},
   "outputs": [
    {
     "name": "stdout",
     "output_type": "stream",
     "text": [
      "16\n"
     ]
    }
   ],
   "source": [
    "perimeter = rect.perimeter()\n",
    "print(perimeter)"
   ]
  },
  {
   "cell_type": "code",
   "execution_count": 7,
   "metadata": {},
   "outputs": [
    {
     "name": "stdout",
     "output_type": "stream",
     "text": [
      "3 3 4\n"
     ]
    }
   ],
   "source": [
    "rec = S.Rectange(2,4)\n",
    "rec_copy = rec\n",
    "rec_deep = deepcopy(rec_copy)\n",
    "rec_copy.length = 3\n",
    "print(rec.length, rec_copy.length, rec_deep.length)"
   ]
  },
  {
   "cell_type": "code",
   "execution_count": null,
   "metadata": {},
   "outputs": [],
   "source": []
  }
 ],
 "metadata": {
  "kernelspec": {
   "display_name": "pangeo",
   "language": "python",
   "name": "python3"
  },
  "language_info": {
   "codemirror_mode": {
    "name": "ipython",
    "version": 3
   },
   "file_extension": ".py",
   "mimetype": "text/x-python",
   "name": "python",
   "nbconvert_exporter": "python",
   "pygments_lexer": "ipython3",
   "version": "3.11.7"
  }
 },
 "nbformat": 4,
 "nbformat_minor": 2
}
