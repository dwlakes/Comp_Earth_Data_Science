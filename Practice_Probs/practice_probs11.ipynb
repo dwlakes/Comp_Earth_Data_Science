{
 "cells": [
  {
   "cell_type": "code",
   "execution_count": 26,
   "metadata": {},
   "outputs": [],
   "source": [
    "import numpy as np\n",
    "import pprint as pp\n",
    "import great_circle as gc"
   ]
  },
  {
   "cell_type": "code",
   "execution_count": 27,
   "metadata": {},
   "outputs": [],
   "source": [
    "def s(input):\n",
    "    return input**2"
   ]
  },
  {
   "cell_type": "code",
   "execution_count": 28,
   "metadata": {},
   "outputs": [
    {
     "data": {
      "text/plain": [
       "4"
      ]
     },
     "execution_count": 28,
     "metadata": {},
     "output_type": "execute_result"
    }
   ],
   "source": [
    "s(2)"
   ]
  },
  {
   "cell_type": "code",
   "execution_count": 29,
   "metadata": {},
   "outputs": [
    {
     "data": {
      "text/plain": [
       "4"
      ]
     },
     "execution_count": 29,
     "metadata": {},
     "output_type": "execute_result"
    }
   ],
   "source": [
    "f = lambda input : input**2\n",
    "f(2)"
   ]
  },
  {
   "cell_type": "code",
   "execution_count": 30,
   "metadata": {},
   "outputs": [
    {
     "name": "stdout",
     "output_type": "stream",
     "text": [
      "16\n",
      "16\n"
     ]
    }
   ],
   "source": [
    "print(s(4))\n",
    "print(f(4))"
   ]
  },
  {
   "cell_type": "code",
   "execution_count": 31,
   "metadata": {},
   "outputs": [
    {
     "data": {
      "text/plain": [
       "['C', 'H', 'O', 'N', 'P', 'S']"
      ]
     },
     "execution_count": 31,
     "metadata": {},
     "output_type": "execute_result"
    }
   ],
   "source": [
    "atomicNumbers = { 1:'H',   2:\"He\",  3: \"Li\", 4:\"Be\",  5:\"B\",   \\\n",
    "                  6:\"C\",   7: \"N\",  8:\"O\",   9:\"F\",   10:\"Ne\", \\\n",
    "                  11:\"Na\", 12:\"Mg\", 13:\"Al\", 14:\"Si\", 15:\"P\",  \\\n",
    "                  16:\"S\",  17:\"Cl\", 18:\"Ar\"}\n",
    "\n",
    "lifeElements = [6, 1, 8, 7, 15, 16]\n",
    "\n",
    "[atomicNumbers[x] for x in lifeElements]"
   ]
  },
  {
   "cell_type": "code",
   "execution_count": 32,
   "metadata": {},
   "outputs": [
    {
     "name": "stdout",
     "output_type": "stream",
     "text": [
      "{'Al': 12,\n",
      " 'Ar': 17,\n",
      " 'B': 4,\n",
      " 'Be': 3,\n",
      " 'C': 5,\n",
      " 'Cl': 16,\n",
      " 'F': 8,\n",
      " 'H': 0,\n",
      " 'He': 1,\n",
      " 'Li': 2,\n",
      " 'Mg': 11,\n",
      " 'N': 6,\n",
      " 'Na': 10,\n",
      " 'Ne': 9,\n",
      " 'O': 7,\n",
      " 'P': 14,\n",
      " 'S': 15,\n",
      " 'Si': 13}\n"
     ]
    }
   ],
   "source": [
    "elements = [\"H\",  \"He\", \"Li\", \"Be\", \"B\", \\\n",
    "            \"C\",  \"N\",  \"O\",  \"F\",  \"Ne\", \\\n",
    "            \"Na\", \"Mg\", \"Al\", \"Si\", \"P\",  \\\n",
    "            \"S\",  \"Cl\", \"Ar\"]\n",
    "elementsDict = {}\n",
    "\n",
    "for element in elements:\n",
    "\n",
    "    value = list(atomicNumbers.values()).index(element)\n",
    "    elementsDict[element] = value\n",
    "\n",
    "pp.pprint(elementsDict)"
   ]
  },
  {
   "cell_type": "code",
   "execution_count": 38,
   "metadata": {},
   "outputs": [],
   "source": [
    "# Pinyon Flat, CA\n",
    "PF_lat, PF_lon = 33.3, -215.7\n",
    "\n",
    "\n",
    "EQ_lat, EQ_lon = 39.77, -186.15"
   ]
  },
  {
   "cell_type": "code",
   "execution_count": 39,
   "metadata": {},
   "outputs": [
    {
     "ename": "Exception",
     "evalue": "Longitude 1 is outside of the range -180:180",
     "output_type": "error",
     "traceback": [
      "\u001b[0;31m---------------------------------------------------------------------------\u001b[0m",
      "\u001b[0;31mException\u001b[0m                                 Traceback (most recent call last)",
      "Cell \u001b[0;32mIn[39], line 1\u001b[0m\n\u001b[0;32m----> 1\u001b[0m \u001b[43mgc\u001b[49m\u001b[38;5;241;43m.\u001b[39;49m\u001b[43mgreat_circle\u001b[49m\u001b[43m(\u001b[49m\u001b[43mPF_lat\u001b[49m\u001b[43m,\u001b[49m\u001b[43m \u001b[49m\u001b[43mPF_lon\u001b[49m\u001b[43m,\u001b[49m\u001b[43m \u001b[49m\u001b[43mEQ_lat\u001b[49m\u001b[43m,\u001b[49m\u001b[43m \u001b[49m\u001b[43mEQ_lon\u001b[49m\u001b[43m)\u001b[49m\n",
      "File \u001b[0;32m~/Desktop/Python_Stuff/Computational_Earth_Sciences/Practice_Probs/great_circle.py:13\u001b[0m, in \u001b[0;36mgreat_circle\u001b[0;34m(lat_1, lon_1, lat_2, lon_2)\u001b[0m\n\u001b[1;32m      9\u001b[0m \u001b[38;5;28;01mdef\u001b[39;00m \u001b[38;5;21mgreat_circle\u001b[39m(lat_1, lon_1, lat_2, lon_2):\n\u001b[1;32m     10\u001b[0m     \u001b[38;5;66;03m# Calculate the great circle distance between two points on a globe\u001b[39;00m\n\u001b[1;32m     12\u001b[0m     \u001b[38;5;28;01mif\u001b[39;00m lon_1 \u001b[38;5;241m<\u001b[39m \u001b[38;5;241m-\u001b[39m\u001b[38;5;241m180\u001b[39m \u001b[38;5;129;01mor\u001b[39;00m lon_1 \u001b[38;5;241m>\u001b[39m \u001b[38;5;241m180\u001b[39m:\n\u001b[0;32m---> 13\u001b[0m         \u001b[38;5;28;01mraise\u001b[39;00m \u001b[38;5;167;01mException\u001b[39;00m(\u001b[38;5;124m'\u001b[39m\u001b[38;5;124mLongitude 1 is outside of the range -180:180\u001b[39m\u001b[38;5;124m'\u001b[39m)\n\u001b[1;32m     14\u001b[0m     \u001b[38;5;28;01mif\u001b[39;00m lon_2 \u001b[38;5;241m<\u001b[39m \u001b[38;5;241m-\u001b[39m\u001b[38;5;241m180\u001b[39m \u001b[38;5;129;01mor\u001b[39;00m lon_2 \u001b[38;5;241m>\u001b[39m \u001b[38;5;241m180\u001b[39m:\n\u001b[1;32m     15\u001b[0m         \u001b[38;5;28;01mraise\u001b[39;00m \u001b[38;5;167;01mException\u001b[39;00m(\u001b[38;5;124m'\u001b[39m\u001b[38;5;124mLongitude 2 is outside of the range -180:180\u001b[39m\u001b[38;5;124m'\u001b[39m)\n",
      "\u001b[0;31mException\u001b[0m: Longitude 1 is outside of the range -180:180"
     ]
    }
   ],
   "source": [
    "gc.great_circle(PF_lat, PF_lon, EQ_lat, EQ_lon)"
   ]
  },
  {
   "cell_type": "code",
   "execution_count": null,
   "metadata": {},
   "outputs": [],
   "source": []
  }
 ],
 "metadata": {
  "kernelspec": {
   "display_name": "pangeo",
   "language": "python",
   "name": "python3"
  },
  "language_info": {
   "codemirror_mode": {
    "name": "ipython",
    "version": 3
   },
   "file_extension": ".py",
   "mimetype": "text/x-python",
   "name": "python",
   "nbconvert_exporter": "python",
   "pygments_lexer": "ipython3",
   "version": "3.11.7"
  }
 },
 "nbformat": 4,
 "nbformat_minor": 2
}
