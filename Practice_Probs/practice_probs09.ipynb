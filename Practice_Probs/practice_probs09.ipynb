{
 "cells": [
  {
   "cell_type": "code",
   "execution_count": 22,
   "metadata": {},
   "outputs": [],
   "source": [
    "import pandas as pd \n",
    "import numpy as np"
   ]
  },
  {
   "cell_type": "code",
   "execution_count": 23,
   "metadata": {},
   "outputs": [
    {
     "data": {
      "text/html": [
       "<div>\n",
       "<style scoped>\n",
       "    .dataframe tbody tr th:only-of-type {\n",
       "        vertical-align: middle;\n",
       "    }\n",
       "\n",
       "    .dataframe tbody tr th {\n",
       "        vertical-align: top;\n",
       "    }\n",
       "\n",
       "    .dataframe thead th {\n",
       "        text-align: right;\n",
       "    }\n",
       "</style>\n",
       "<table border=\"1\" class=\"dataframe\">\n",
       "  <thead>\n",
       "    <tr style=\"text-align: right;\">\n",
       "      <th></th>\n",
       "      <th>Minutes</th>\n",
       "      <th>Velocity</th>\n",
       "    </tr>\n",
       "  </thead>\n",
       "  <tbody>\n",
       "    <tr>\n",
       "      <th>0</th>\n",
       "      <td>0.000000</td>\n",
       "      <td>1807.0</td>\n",
       "    </tr>\n",
       "    <tr>\n",
       "      <th>1</th>\n",
       "      <td>0.000833</td>\n",
       "      <td>1749.0</td>\n",
       "    </tr>\n",
       "    <tr>\n",
       "      <th>2</th>\n",
       "      <td>0.001667</td>\n",
       "      <td>1694.0</td>\n",
       "    </tr>\n",
       "    <tr>\n",
       "      <th>3</th>\n",
       "      <td>0.002500</td>\n",
       "      <td>1618.0</td>\n",
       "    </tr>\n",
       "    <tr>\n",
       "      <th>4</th>\n",
       "      <td>0.003333</td>\n",
       "      <td>1516.0</td>\n",
       "    </tr>\n",
       "    <tr>\n",
       "      <th>...</th>\n",
       "      <td>...</td>\n",
       "      <td>...</td>\n",
       "    </tr>\n",
       "    <tr>\n",
       "      <th>25195</th>\n",
       "      <td>20.995833</td>\n",
       "      <td>-12915.0</td>\n",
       "    </tr>\n",
       "    <tr>\n",
       "      <th>25196</th>\n",
       "      <td>20.996667</td>\n",
       "      <td>-13599.0</td>\n",
       "    </tr>\n",
       "    <tr>\n",
       "      <th>25197</th>\n",
       "      <td>20.997500</td>\n",
       "      <td>-14264.0</td>\n",
       "    </tr>\n",
       "    <tr>\n",
       "      <th>25198</th>\n",
       "      <td>20.998333</td>\n",
       "      <td>-14888.0</td>\n",
       "    </tr>\n",
       "    <tr>\n",
       "      <th>25199</th>\n",
       "      <td>20.999167</td>\n",
       "      <td>-15489.0</td>\n",
       "    </tr>\n",
       "  </tbody>\n",
       "</table>\n",
       "<p>25200 rows × 2 columns</p>\n",
       "</div>"
      ],
      "text/plain": [
       "         Minutes  Velocity\n",
       "0       0.000000    1807.0\n",
       "1       0.000833    1749.0\n",
       "2       0.001667    1694.0\n",
       "3       0.002500    1618.0\n",
       "4       0.003333    1516.0\n",
       "...          ...       ...\n",
       "25195  20.995833  -12915.0\n",
       "25196  20.996667  -13599.0\n",
       "25197  20.997500  -14264.0\n",
       "25198  20.998333  -14888.0\n",
       "25199  20.999167  -15489.0\n",
       "\n",
       "[25200 rows x 2 columns]"
      ]
     },
     "execution_count": 23,
     "metadata": {},
     "output_type": "execute_result"
    }
   ],
   "source": [
    "minutes_velocity = pd.read_csv('../Datasets/minutes_velocity.csv')\n",
    "minutes_velocity"
   ]
  },
  {
   "cell_type": "code",
   "execution_count": 24,
   "metadata": {},
   "outputs": [
    {
     "data": {
      "text/plain": [
       "1580.5"
      ]
     },
     "execution_count": 24,
     "metadata": {},
     "output_type": "execute_result"
    }
   ],
   "source": [
    "meadian_vel = minutes_velocity.Velocity.median()\n",
    "meadian_vel"
   ]
  },
  {
   "cell_type": "code",
   "execution_count": 25,
   "metadata": {},
   "outputs": [
    {
     "data": {
      "text/plain": [
       "2439.972261904762"
      ]
     },
     "execution_count": 25,
     "metadata": {},
     "output_type": "execute_result"
    }
   ],
   "source": [
    "mean_vel = minutes_velocity.Velocity.mean()\n",
    "mean_vel"
   ]
  },
  {
   "cell_type": "code",
   "execution_count": 26,
   "metadata": {},
   "outputs": [
    {
     "name": "stdout",
     "output_type": "stream",
     "text": [
      "1582.0\n",
      "2438.0\n"
     ]
    }
   ],
   "source": [
    "middle_velocites = minutes_velocity[(minutes_velocity.Velocity < mean_vel) & (minutes_velocity.Velocity > meadian_vel)]\n",
    "\n",
    "print(middle_velocites.Velocity.min())\n",
    "print(middle_velocites.Velocity.max())\n",
    "\n"
   ]
  },
  {
   "cell_type": "code",
   "execution_count": 27,
   "metadata": {},
   "outputs": [],
   "source": [
    "def lat_to_colat(lat):\n",
    "    return (90. - lat) "
   ]
  },
  {
   "cell_type": "code",
   "execution_count": 28,
   "metadata": {},
   "outputs": [],
   "source": [
    "def get_alpha(lon_2, lon_1):\n",
    "    return (lon_2 - lon_1)"
   ]
  },
  {
   "cell_type": "code",
   "execution_count": 29,
   "metadata": {},
   "outputs": [],
   "source": [
    "def great_circle(lat_1, lon_1, lat_2, lon_2):\n",
    "    # Calculate the great circle distance between two points on a globe\n",
    "\n",
    "    # First, convert the latitudes to colatitudes\n",
    "    colat_1 = lat_to_colat(lat_1)\n",
    "    colat_2 = lat_to_colat(lat_2)\n",
    "    # and alpha is the difference between the two longitudes\n",
    "    alpha = get_alpha(lon_2, lon_1)\n",
    "    # Convert degrees to radians\n",
    "    colat_1, colat_2, alpha = np.radians(colat_1), np.radians(colat_2), np.radians(alpha)\n",
    "    # Spherical trig:\n",
    "    cosa = np.cos(colat_1) * np.cos(colat_2) + np.sin(colat_1) * np.sin(colat_2) * np.cos(alpha)\n",
    "\n",
    "    a = np.arccos(cosa)\n",
    "\n",
    "    return np.degrees(a)"
   ]
  },
  {
   "cell_type": "code",
   "execution_count": 34,
   "metadata": {},
   "outputs": [
    {
     "name": "stdout",
     "output_type": "stream",
     "text": [
      "Degrees separation between source and receiver:  24.48511056668808\n"
     ]
    }
   ],
   "source": [
    "# Pinyon Flat, CA\n",
    "PF_lat, PF_lon = 33.3, -115.7\n",
    "\n",
    "#Indianapolis, IN\n",
    "EQ_lat, EQ_lon = 39.77, -86.15\n",
    "\n",
    "Delta = great_circle(PF_lat, PF_lon, EQ_lat, EQ_lon)\n",
    "\n",
    "print('Degrees separation between source and receiver: ', Delta)"
   ]
  },
  {
   "cell_type": "code",
   "execution_count": 38,
   "metadata": {},
   "outputs": [
    {
     "name": "stdout",
     "output_type": "stream",
     "text": [
      "2720.2957839590454 kilometers\n"
     ]
    }
   ],
   "source": [
    "print(111.1*Delta, 'kilometers')"
   ]
  },
  {
   "cell_type": "code",
   "execution_count": 39,
   "metadata": {},
   "outputs": [
    {
     "name": "stdout",
     "output_type": "stream",
     "text": [
      "3.141592653589793\n"
     ]
    }
   ],
   "source": [
    "pi = np.pi\n",
    "print(pi)"
   ]
  },
  {
   "cell_type": "code",
   "execution_count": 48,
   "metadata": {},
   "outputs": [
    {
     "name": "stdout",
     "output_type": "stream",
     "text": [
      "Pi rounded 4 decimals is 3.1416\n"
     ]
    }
   ],
   "source": [
    "print('Pi rounded 4 decimals is %.4f' %(pi))"
   ]
  },
  {
   "cell_type": "code",
   "execution_count": 43,
   "metadata": {},
   "outputs": [
    {
     "name": "stdout",
     "output_type": "stream",
     "text": [
      "157.07963267948966\n"
     ]
    }
   ],
   "source": [
    "print(pi*50)"
   ]
  },
  {
   "cell_type": "code",
   "execution_count": 49,
   "metadata": {},
   "outputs": [
    {
     "name": "stdout",
     "output_type": "stream",
     "text": [
      "1.5708e+02}\n"
     ]
    }
   ],
   "source": [
    "print('%.4e}' % (pi*50))"
   ]
  },
  {
   "cell_type": "code",
   "execution_count": null,
   "metadata": {},
   "outputs": [],
   "source": []
  }
 ],
 "metadata": {
  "kernelspec": {
   "display_name": "pangeo",
   "language": "python",
   "name": "python3"
  },
  "language_info": {
   "codemirror_mode": {
    "name": "ipython",
    "version": 3
   },
   "file_extension": ".py",
   "mimetype": "text/x-python",
   "name": "python",
   "nbconvert_exporter": "python",
   "pygments_lexer": "ipython3",
   "version": "3.11.7"
  }
 },
 "nbformat": 4,
 "nbformat_minor": 2
}
