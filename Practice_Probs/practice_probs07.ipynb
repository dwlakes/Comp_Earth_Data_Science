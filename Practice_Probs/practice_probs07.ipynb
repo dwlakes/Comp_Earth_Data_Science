{
 "cells": [
  {
   "cell_type": "code",
   "execution_count": 1,
   "metadata": {},
   "outputs": [],
   "source": [
    "import numpy as np"
   ]
  },
  {
   "cell_type": "code",
   "execution_count": 3,
   "metadata": {},
   "outputs": [
    {
     "name": "stdout",
     "output_type": "stream",
     "text": [
      "[  0  10  20  30  40  50  60  70  80  90 100 110 120 130 140 150 160 170\n",
      " 180 190 200 210 220 230 240 250 260 270 280 290 300 310 320 330 340 350\n",
      " 360]\n"
     ]
    }
   ],
   "source": [
    "print(np.arange(0, 370, 10))"
   ]
  },
  {
   "cell_type": "code",
   "execution_count": 4,
   "metadata": {},
   "outputs": [
    {
     "name": "stdout",
     "output_type": "stream",
     "text": [
      "[0.         0.17951958 0.35903916 0.53855874 0.71807832 0.8975979\n",
      " 1.07711748 1.25663706 1.43615664 1.61567622 1.7951958  1.97471538\n",
      " 2.15423496 2.33375454 2.51327412 2.6927937  2.87231328 3.05183286\n",
      " 3.23135244 3.41087202 3.5903916  3.76991118 3.94943076 4.12895034\n",
      " 4.30846992 4.48798951 4.66750909 4.84702867 5.02654825 5.20606783\n",
      " 5.38558741 5.56510699 5.74462657 5.92414615 6.10366573 6.28318531]\n"
     ]
    }
   ],
   "source": [
    "print(np.linspace(0, 2*np.pi, 36))"
   ]
  },
  {
   "cell_type": "code",
   "execution_count": 6,
   "metadata": {},
   "outputs": [
    {
     "name": "stdout",
     "output_type": "stream",
     "text": [
      "[0.         0.33069396 0.66138793 0.99208189 1.32277585 1.65346982\n",
      " 1.98416378 2.31485774 2.64555171 2.97624567 3.30693964 3.6376336\n",
      " 3.96832756 4.29902153 4.62971549 4.96040945 5.29110342 5.62179738\n",
      " 5.95249134 6.28318531]\n"
     ]
    }
   ],
   "source": [
    "print(np.linspace(0, 2*np.pi, 20, dtype=float))"
   ]
  },
  {
   "cell_type": "code",
   "execution_count": 32,
   "metadata": {},
   "outputs": [
    {
     "name": "stdout",
     "output_type": "stream",
     "text": [
      "(10, 2)\n",
      "[[  66.07 -149.03]\n",
      " [  38.83 -122.8 ]\n",
      " [  32.92 -115.47]\n",
      " [  47.63 -122.51]\n",
      " [  60.97 -151.24]\n",
      " [  37.65 -118.85]\n",
      " [  53.2  -161.3 ]\n",
      " [  19.41 -155.28]\n",
      " [  38.84 -122.83]\n",
      " [  36.88  -89.12]]\n"
     ]
    }
   ],
   "source": [
    "earthquakes = np.loadtxt('../Datasets/RecentEarthquakes/earthquakeLocations.txt')\n",
    "\n",
    "print(earthquakes.shape)\n",
    "print(earthquakes)\n"
   ]
  },
  {
   "cell_type": "code",
   "execution_count": 21,
   "metadata": {},
   "outputs": [
    {
     "name": "stdout",
     "output_type": "stream",
     "text": [
      "(2, 10)\n"
     ]
    }
   ],
   "source": [
    "earthquakes_transposed = earthquakes.transpose()\n",
    "print(earthquakes_transposed.shape)"
   ]
  },
  {
   "cell_type": "code",
   "execution_count": 24,
   "metadata": {},
   "outputs": [
    {
     "name": "stdout",
     "output_type": "stream",
     "text": [
      "(2, 10)\n"
     ]
    }
   ],
   "source": [
    "earthquakes_reshaped = earthquakes.reshape(2,10)\n",
    "print(earthquakes_reshaped.shape)"
   ]
  },
  {
   "cell_type": "code",
   "execution_count": 40,
   "metadata": {},
   "outputs": [
    {
     "name": "stdout",
     "output_type": "stream",
     "text": [
      "float64\n",
      "float64\n"
     ]
    }
   ],
   "source": [
    "#print(earthquakes_transposed)\n",
    "\n",
    "lats = earthquakes_transposed[0]\n",
    "lons = earthquakes_transposed[1]\n",
    "print(lats.dtype)\n",
    "print(lons.dtype)"
   ]
  },
  {
   "cell_type": "code",
   "execution_count": 41,
   "metadata": {},
   "outputs": [
    {
     "data": {
      "text/plain": [
       "list"
      ]
     },
     "execution_count": 41,
     "metadata": {},
     "output_type": "execute_result"
    }
   ],
   "source": [
    "lats_list = lats.tolist()\n",
    "lons_list = lons.tolist()\n",
    "type(lats_list)\n",
    "type(lons_list)\n"
   ]
  },
  {
   "cell_type": "code",
   "execution_count": 43,
   "metadata": {},
   "outputs": [],
   "source": [
    "np.savetxt('lats.txt', lats)"
   ]
  },
  {
   "cell_type": "code",
   "execution_count": null,
   "metadata": {},
   "outputs": [],
   "source": []
  }
 ],
 "metadata": {
  "kernelspec": {
   "display_name": "pangeo",
   "language": "python",
   "name": "python3"
  },
  "language_info": {
   "codemirror_mode": {
    "name": "ipython",
    "version": 3
   },
   "file_extension": ".py",
   "mimetype": "text/x-python",
   "name": "python",
   "nbconvert_exporter": "python",
   "pygments_lexer": "ipython3",
   "version": "3.11.7"
  }
 },
 "nbformat": 4,
 "nbformat_minor": 2
}
