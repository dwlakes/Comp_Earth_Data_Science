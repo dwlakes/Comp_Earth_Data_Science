{
 "cells": [
  {
   "cell_type": "code",
   "execution_count": 1,
   "metadata": {
    "collapsed": true
   },
   "outputs": [],
   "source": [
    "import pandas as pd\n",
    "import numpy as np\n",
    "import matplotlib.pylab as plt\n",
    "%matplotlib inline"
   ]
  },
  {
   "cell_type": "code",
   "execution_count": 18,
   "metadata": {
    "collapsed": false
   },
   "outputs": [
    {
     "name": "stdout",
     "output_type": "stream",
     "text": [
      "   Deg  M     S  M.1   S.1     P_min    SP_min     S_min\n",
      "0  0.0  0   5.4    0   4.0  0.090000  0.066667  0.156667\n",
      "1  0.5  0  10.6    0   7.8  0.176667  0.130000  0.306667\n",
      "2  1.0  0  17.7    0  13.5  0.295000  0.225000  0.520000\n",
      "3  1.5  0  24.6    0  19.0  0.410000  0.316667  0.726667\n",
      "4  2.0  0  31.4    0  24.4  0.523333  0.406667  0.930000\n"
     ]
    }
   ],
   "source": [
    "data=pd.read_csv('DeltaTime.txt',delim_whitespace=True,skiprows=1,header=1)\n",
    "data['P_min']=data['M']+data['S']/60.\n",
    "data['SP_min']=data['M.1']+data['S.1']/60.\n",
    "data['S_min']=data['P_min']+data['SP_min']\n",
    "print data.head()"
   ]
  },
  {
   "cell_type": "code",
   "execution_count": 17,
   "metadata": {
    "collapsed": false
   },
   "outputs": [
    {
     "data": {
      "text/plain": [
       "<matplotlib.legend.Legend at 0x116db9710>"
      ]
     },
     "execution_count": 17,
     "metadata": {},
     "output_type": "execute_result"
    },
    {
     "data": {
      "image/png": "[encoded data removed]",
      "text/plain": [
       "<matplotlib.figure.Figure at 0x116c00b50>"
      ]
     },
     "metadata": {},
     "output_type": "display_data"
    }
   ],
   "source": [
    "plt.plot(data.Deg,data.P_min,'ro',label='P wave')\n",
    "plt.plot(data.Deg,data.S_min,'bo',label='S wave')\n",
    "plt.xlabel('Distance (degrees)')\n",
    "plt.ylabel('Time (minutes)')\n",
    "plt.legend(numpoints=1,loc=2)"
   ]
  },
  {
   "cell_type": "code",
   "execution_count": null,
   "metadata": {
    "collapsed": true
   },
   "outputs": [],
   "source": []
  }
 ],
 "metadata": {
  "kernelspec": {
   "display_name": "Python 2",
   "language": "python",
   "name": "python2"
  },
  "language_info": {
   "codemirror_mode": {
    "name": "ipython",
    "version": 2
   },
   "file_extension": ".py",
   "mimetype": "text/x-python",
   "name": "python",
   "nbconvert_exporter": "python",
   "pygments_lexer": "ipython2",
   "version": "2.7.11"
  }
 },
 "nbformat": 4,
 "nbformat_minor": 0
}
