{
 "cells": [
  {
   "cell_type": "code",
   "execution_count": 9,
   "metadata": {},
   "outputs": [],
   "source": [
    "import Shapes as S "
   ]
  },
  {
   "cell_type": "code",
   "execution_count": 10,
   "metadata": {},
   "outputs": [
    {
     "name": "stdout",
     "output_type": "stream",
     "text": [
      "3.0\n",
      "7.0\n"
     ]
    }
   ],
   "source": [
    "C = S.Circle(3.0)\n",
    "print(C.r)\n",
    "C.r = 7.0\n",
    "print(C.r)\n"
   ]
  },
  {
   "cell_type": "code",
   "execution_count": 11,
   "metadata": {},
   "outputs": [
    {
     "data": {
      "text/plain": [
       "76.96902001294993"
      ]
     },
     "execution_count": 11,
     "metadata": {},
     "output_type": "execute_result"
    }
   ],
   "source": [
    "C.area()"
   ]
  },
  {
   "cell_type": "code",
   "execution_count": 12,
   "metadata": {},
   "outputs": [
    {
     "name": "stdout",
     "output_type": "stream",
     "text": [
      "radius: value 3.0000e+00\n"
     ]
    }
   ],
   "source": [
    "r = 3.0\n",
    "C = S.Circle(r)\n",
    "print(C)"
   ]
  },
  {
   "cell_type": "code",
   "execution_count": 13,
   "metadata": {},
   "outputs": [
    {
     "name": "stdout",
     "output_type": "stream",
     "text": [
      "['spam', 'ocelot', 42]\n",
      "['spam', 'ocelot', 'not an ocelot']\n"
     ]
    }
   ],
   "source": [
    "L1 = ['spam', 'ocelot', 42]\n",
    "L2 = L1\n",
    "print(L2)\n",
    "L1[2] = 'not an ocelot'\n",
    "print(L2)"
   ]
  },
  {
   "cell_type": "code",
   "execution_count": 14,
   "metadata": {},
   "outputs": [
    {
     "name": "stdout",
     "output_type": "stream",
     "text": [
      "['spam', 'ocelot', 'not an ocelot']\n",
      "['spam', 'ocelot', 'not an ocelot']\n"
     ]
    }
   ],
   "source": [
    "L3 = L1[:]\n",
    "print(L3)\n",
    "L1[2] = 42\n",
    "print(L3)\n"
   ]
  },
  {
   "cell_type": "code",
   "execution_count": 15,
   "metadata": {},
   "outputs": [],
   "source": [
    "from copy import deepcopy\n",
    "\n",
    "L1 = ['spam', 'ocelot', 42]\n",
    "L2 = deepcopy(L1)"
   ]
  }
 ],
 "metadata": {
  "kernelspec": {
   "display_name": "pangeo",
   "language": "python",
   "name": "python3"
  },
  "language_info": {
   "codemirror_mode": {
    "name": "ipython",
    "version": 3
   },
   "file_extension": ".py",
   "mimetype": "text/x-python",
   "name": "python",
   "nbconvert_exporter": "python",
   "pygments_lexer": "ipython3",
   "version": "3.11.7"
  }
 },
 "nbformat": 4,
 "nbformat_minor": 2
}
