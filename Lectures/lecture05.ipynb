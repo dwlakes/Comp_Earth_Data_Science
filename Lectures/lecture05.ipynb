{
 "cells": [
  {
   "cell_type": "code",
   "execution_count": 2,
   "metadata": {},
   "outputs": [],
   "source": [
    "from IPython.display import Image\n",
    "import os\n"
   ]
  },
  {
   "cell_type": "code",
   "execution_count": 4,
   "metadata": {},
   "outputs": [],
   "source": [
    "def func_name(in_args):  \n",
    "    \"\"\"   \n",
    "    DOC STRING    \n",
    "    \"\"\"\n",
    "    \n",
    "    out_args = in_args # ok - not very fancy....   \n",
    "    \n",
    "    return out_args"
   ]
  },
  {
   "cell_type": "code",
   "execution_count": 5,
   "metadata": {},
   "outputs": [
    {
     "name": "stdout",
     "output_type": "stream",
     "text": [
      "Help on function func_name in module __main__:\n",
      "\n",
      "func_name(in_args)\n",
      "    DOC STRING\n",
      "\n"
     ]
    }
   ],
   "source": [
    "help(func_name)"
   ]
  },
  {
   "cell_type": "code",
   "execution_count": 6,
   "metadata": {},
   "outputs": [
    {
     "name": "stdout",
     "output_type": "stream",
     "text": [
      "3.141592653589793\n",
      "6.283185307179586\n"
     ]
    }
   ],
   "source": [
    "def gimme_pi():  # define the function\n",
    "    \"\"\"\n",
    "    Returns the value of pi.\n",
    "    \n",
    "    Parameters:\n",
    "    -----------\n",
    "        None\n",
    "        \n",
    "    Returns:\n",
    "    --------\n",
    "       The value of pi.\n",
    "    \"\"\"\n",
    "    \n",
    "    return 3.141592653589793\n",
    "\n",
    "print(gimme_pi())\n",
    "\n",
    "twoPi = 2 * gimme_pi()\n",
    "print(twoPi)"
   ]
  },
  {
   "cell_type": "code",
   "execution_count": 7,
   "metadata": {},
   "outputs": [
    {
     "name": "stdout",
     "output_type": "stream",
     "text": [
      "42 degrees in radians is: 0.7330382858376184\n"
     ]
    }
   ],
   "source": [
    "def degrees_to_radians(degrees):  \n",
    "    \"\"\"\n",
    "    Converts degrees to radians.\n",
    "    \n",
    "    Parameters:\n",
    "    -----------\n",
    "    degrees : float\n",
    "        Degrees to convert to radians.\n",
    "            \n",
    "    Returns:\n",
    "    --------\n",
    "    radians : float\n",
    "        Degrees converted to radians.\n",
    "    \"\"\"\n",
    "    \n",
    "    radians = degrees * gimme_pi() / 180.0\n",
    "    return radians\n",
    "print('42 degrees in radians is:', degrees_to_radians(42))"
   ]
  },
  {
   "cell_type": "code",
   "execution_count": 8,
   "metadata": {},
   "outputs": [
    {
     "name": "stdout",
     "output_type": "stream",
     "text": [
      "(1, 4, 'hi there')\n",
      "You sent me these arguments:\n",
      "1\n",
      "4\n",
      "hi there\n",
      "(42,)\n",
      "You sent me these arguments:\n",
      "42\n"
     ]
    }
   ],
   "source": [
    "def print_args(*args):\n",
    "    \"\"\"\n",
    "    Prints argument list.\n",
    "    \n",
    "    Parameters:\n",
    "    -----------\n",
    "    *args : A tuple of input arguments.\n",
    "        \n",
    "    Returns: \n",
    "    --------\n",
    "    None\n",
    "    \"\"\"\n",
    "    \n",
    "    print(args)  # args is a tuple that you can step through (like a list)\n",
    "    print('You sent me these arguments:')\n",
    "    for arg in args: # Steps through the argument tuple\n",
    "        print(arg)\n",
    "        \n",
    "print_args(1, 4, 'hi there')\n",
    "print_args(42)"
   ]
  },
  {
   "cell_type": "code",
   "execution_count": 9,
   "metadata": {},
   "outputs": [
    {
     "name": "stdout",
     "output_type": "stream",
     "text": [
      "{'arg1': 'spam', 'arg2': 42, 'arg3': 'ocelot'}\n",
      "arg1 spam\n",
      "arg2 42\n",
      "arg3 ocelot\n"
     ]
    }
   ],
   "source": [
    "def print_keyword_arguments(**kwargs):\n",
    "    \"\"\"\n",
    "    Prints keyword argument list.\n",
    "    \n",
    "    Parameters:\n",
    "    -----------\n",
    "    **kwargs : dict\n",
    "        Input dictionary of arguments.\n",
    "            \n",
    "    Returns:\n",
    "    --------\n",
    "    None\n",
    "    \"\"\"\n",
    "    \n",
    "    print(kwargs) # kwargs is a dictionary with key:value pairs\n",
    "    for key in kwargs:\n",
    "        print(key, kwargs[key])\n",
    "    \n",
    "print_keyword_arguments(arg1 = 'spam', arg2 = 42, arg3 = 'ocelot')\n",
    "# ocelot is another Monty Python joke about Brian (from Life of Brian) trying to \n",
    "# sell \"Larks' tongues, Otters' noses and Ocelot spleens. Yummy. "
   ]
  },
  {
   "cell_type": "code",
   "execution_count": 10,
   "metadata": {},
   "outputs": [
    {
     "name": "stdout",
     "output_type": "stream",
     "text": [
      "arg1 spam\n",
      "arg2 42\n",
      "arg3 ocelot\n"
     ]
    }
   ],
   "source": [
    "def print_keyword_arguments(**kwargs): # same function as before\n",
    "    \"\"\"\n",
    "    Prints keyword argument list.\n",
    "    \n",
    "    Parameters:\n",
    "    -----------\n",
    "    **kwargs : dict\n",
    "        Input dictionary of arguments.\n",
    "            \n",
    "    Returns:\n",
    "    --------\n",
    "    None\n",
    "    \"\"\"\n",
    "    \n",
    "    for key in kwargs:\n",
    "        print (key, kwargs[key])  \n",
    "\n",
    "def main(): # new function called \"main\"\n",
    "    \"\"\"\n",
    "    Calls function print_kwargs().\n",
    "    \"\"\"\n",
    "    print_keyword_arguments(arg1='spam', arg2=42, arg3='ocelot')\n",
    "    \n",
    "main()  # runs the main program"
   ]
  },
  {
   "cell_type": "code",
   "execution_count": 11,
   "metadata": {},
   "outputs": [
    {
     "name": "stdout",
     "output_type": "stream",
     "text": [
      "Writing my_funcs.py\n"
     ]
    }
   ],
   "source": [
    "%%writefile my_funcs.py\n",
    "## module my_funcs\n",
    "\n",
    "def gimme_pi():  \n",
    "    \"\"\"\n",
    "    Returns the value of pi.\n",
    "    \n",
    "    Parameters:\n",
    "    -----------\n",
    "    None\n",
    "        \n",
    "    Returns:\n",
    "    --------\n",
    "    The value of pi.\n",
    "    \"\"\"\n",
    "    \n",
    "    return 3.141592653589793\n",
    "\n",
    "def degrees_to_radians(degrees):  \n",
    "    \"\"\"\n",
    "    Converts degrees to radians.\n",
    "    \n",
    "    Parameters:\n",
    "    -----------\n",
    "    degrees : float\n",
    "        Degrees to convert to radians.\n",
    "            \n",
    "    Returns:\n",
    "    --------\n",
    "    radians : float\n",
    "        Degrees converted to radians.\n",
    "    \"\"\"\n",
    "    \n",
    "    radians = degrees * 3.141592653589793 / 180.0\n",
    "    return radians\n",
    "\n",
    "def print_args(*args):\n",
    "    \"\"\"\n",
    "    Prints argument list.\n",
    "    \n",
    "    Parameters:\n",
    "    -----------\n",
    "    *args : A tuple of input arguments.\n",
    "        \n",
    "    Returns: \n",
    "    --------\n",
    "    None\n",
    "    \"\"\"\n",
    "    \n",
    "      print('You sent me these arguments:')\n",
    "    for arg in args:\n",
    "        print(arg)"
   ]
  },
  {
   "cell_type": "code",
   "execution_count": 12,
   "metadata": {},
   "outputs": [
    {
     "data": {
      "application/json": {
       "cell": {
        "!": "OSMagics",
        "HTML": "Other",
        "SVG": "Other",
        "bash": "Other",
        "capture": "ExecutionMagics",
        "code_wrap": "ExecutionMagics",
        "debug": "ExecutionMagics",
        "file": "Other",
        "html": "DisplayMagics",
        "javascript": "DisplayMagics",
        "js": "DisplayMagics",
        "latex": "DisplayMagics",
        "markdown": "DisplayMagics",
        "perl": "Other",
        "prun": "ExecutionMagics",
        "pypy": "Other",
        "python": "Other",
        "python2": "Other",
        "python3": "Other",
        "ruby": "Other",
        "script": "ScriptMagics",
        "sh": "Other",
        "svg": "DisplayMagics",
        "sx": "OSMagics",
        "system": "OSMagics",
        "time": "ExecutionMagics",
        "timeit": "ExecutionMagics",
        "writefile": "OSMagics"
       },
       "line": {
        "alias": "OSMagics",
        "alias_magic": "BasicMagics",
        "autoawait": "AsyncMagics",
        "autocall": "AutoMagics",
        "automagic": "AutoMagics",
        "autosave": "KernelMagics",
        "bookmark": "OSMagics",
        "cat": "Other",
        "cd": "OSMagics",
        "clear": "KernelMagics",
        "code_wrap": "ExecutionMagics",
        "colors": "BasicMagics",
        "conda": "PackagingMagics",
        "config": "ConfigMagics",
        "connect_info": "KernelMagics",
        "cp": "Other",
        "debug": "ExecutionMagics",
        "dhist": "OSMagics",
        "dirs": "OSMagics",
        "doctest_mode": "BasicMagics",
        "ed": "Other",
        "edit": "KernelMagics",
        "env": "OSMagics",
        "gui": "BasicMagics",
        "hist": "Other",
        "history": "HistoryMagics",
        "killbgscripts": "ScriptMagics",
        "ldir": "Other",
        "less": "KernelMagics",
        "lf": "Other",
        "lk": "Other",
        "ll": "Other",
        "load": "CodeMagics",
        "load_ext": "ExtensionMagics",
        "loadpy": "CodeMagics",
        "logoff": "LoggingMagics",
        "logon": "LoggingMagics",
        "logstart": "LoggingMagics",
        "logstate": "LoggingMagics",
        "logstop": "LoggingMagics",
        "ls": "Other",
        "lsmagic": "BasicMagics",
        "lx": "Other",
        "macro": "ExecutionMagics",
        "magic": "BasicMagics",
        "mamba": "PackagingMagics",
        "man": "KernelMagics",
        "matplotlib": "PylabMagics",
        "micromamba": "PackagingMagics",
        "mkdir": "Other",
        "more": "KernelMagics",
        "mv": "Other",
        "notebook": "BasicMagics",
        "page": "BasicMagics",
        "pastebin": "CodeMagics",
        "pdb": "ExecutionMagics",
        "pdef": "NamespaceMagics",
        "pdoc": "NamespaceMagics",
        "pfile": "NamespaceMagics",
        "pinfo": "NamespaceMagics",
        "pinfo2": "NamespaceMagics",
        "pip": "PackagingMagics",
        "popd": "OSMagics",
        "pprint": "BasicMagics",
        "precision": "BasicMagics",
        "prun": "ExecutionMagics",
        "psearch": "NamespaceMagics",
        "psource": "NamespaceMagics",
        "pushd": "OSMagics",
        "pwd": "OSMagics",
        "pycat": "OSMagics",
        "pylab": "PylabMagics",
        "qtconsole": "KernelMagics",
        "quickref": "BasicMagics",
        "recall": "HistoryMagics",
        "rehashx": "OSMagics",
        "reload_ext": "ExtensionMagics",
        "rep": "Other",
        "rerun": "HistoryMagics",
        "reset": "NamespaceMagics",
        "reset_selective": "NamespaceMagics",
        "rm": "Other",
        "rmdir": "Other",
        "run": "ExecutionMagics",
        "save": "CodeMagics",
        "sc": "OSMagics",
        "set_env": "OSMagics",
        "store": "StoreMagics",
        "sx": "OSMagics",
        "system": "OSMagics",
        "tb": "ExecutionMagics",
        "time": "ExecutionMagics",
        "timeit": "ExecutionMagics",
        "unalias": "OSMagics",
        "unload_ext": "ExtensionMagics",
        "who": "NamespaceMagics",
        "who_ls": "NamespaceMagics",
        "whos": "NamespaceMagics",
        "xdel": "NamespaceMagics",
        "xmode": "BasicMagics"
       }
      },
      "text/plain": [
       "Available line magics:\n",
       "%alias  %alias_magic  %autoawait  %autocall  %automagic  %autosave  %bookmark  %cat  %cd  %clear  %code_wrap  %colors  %conda  %config  %connect_info  %cp  %debug  %dhist  %dirs  %doctest_mode  %ed  %edit  %env  %gui  %hist  %history  %killbgscripts  %ldir  %less  %lf  %lk  %ll  %load  %load_ext  %loadpy  %logoff  %logon  %logstart  %logstate  %logstop  %ls  %lsmagic  %lx  %macro  %magic  %mamba  %man  %matplotlib  %micromamba  %mkdir  %more  %mv  %notebook  %page  %pastebin  %pdb  %pdef  %pdoc  %pfile  %pinfo  %pinfo2  %pip  %popd  %pprint  %precision  %prun  %psearch  %psource  %pushd  %pwd  %pycat  %pylab  %qtconsole  %quickref  %recall  %rehashx  %reload_ext  %rep  %rerun  %reset  %reset_selective  %rm  %rmdir  %run  %save  %sc  %set_env  %store  %sx  %system  %tb  %time  %timeit  %unalias  %unload_ext  %who  %who_ls  %whos  %xdel  %xmode\n",
       "\n",
       "Available cell magics:\n",
       "%%!  %%HTML  %%SVG  %%bash  %%capture  %%code_wrap  %%debug  %%file  %%html  %%javascript  %%js  %%latex  %%markdown  %%perl  %%prun  %%pypy  %%python  %%python2  %%python3  %%ruby  %%script  %%sh  %%svg  %%sx  %%system  %%time  %%timeit  %%writefile\n",
       "\n",
       "Automagic is ON, % prefix IS NOT needed for line magics."
      ]
     },
     "execution_count": 12,
     "metadata": {},
     "output_type": "execute_result"
    }
   ],
   "source": [
    "%lsmagic"
   ]
  },
  {
   "cell_type": "code",
   "execution_count": 14,
   "metadata": {},
   "outputs": [
    {
     "data": {
      "text/plain": [
       "3.141592653589793"
      ]
     },
     "execution_count": 14,
     "metadata": {},
     "output_type": "execute_result"
    }
   ],
   "source": [
    "import my_funcs\n",
    "my_funcs.gimme_pi()"
   ]
  },
  {
   "cell_type": "code",
   "execution_count": 15,
   "metadata": {},
   "outputs": [],
   "source": [
    "from importlib import reload"
   ]
  },
  {
   "cell_type": "code",
   "execution_count": 16,
   "metadata": {},
   "outputs": [
    {
     "name": "stdout",
     "output_type": "stream",
     "text": [
      "Overwriting my_funcs.py\n"
     ]
    }
   ],
   "source": [
    "%%writefile my_funcs.py\n",
    "## module my_funcs\n",
    "\n",
    "def gimme_pi():  \n",
    "    \"\"\"\n",
    "    Returns the value of pi.\n",
    "    \"\"\"\n",
    "    \n",
    "    return 3.141592653589793\n",
    "\n",
    "def degrees_to_radians(degrees):  \n",
    "    \"\"\"\n",
    "    Converts degrees to radians.\n",
    "    \"\"\"\n",
    "    \n",
    "    return degrees * 3.141592653589793 / 180.0\n",
    "\n",
    "def print_args(*args):\n",
    "    \"\"\"\n",
    "    Prints out argument list.\n",
    "    \"\"\"\n",
    "    \n",
    "    print ('The arguments were:')\n",
    "    for arg in args:\n",
    "        print(arg)"
   ]
  },
  {
   "cell_type": "code",
   "execution_count": 17,
   "metadata": {},
   "outputs": [
    {
     "name": "stdout",
     "output_type": "stream",
     "text": [
      "Help on function gimme_pi in module my_funcs:\n",
      "\n",
      "gimme_pi()\n",
      "    Returns the value of pi.\n",
      "\n"
     ]
    }
   ],
   "source": [
    "reload(my_funcs)\n",
    "help(my_funcs.gimme_pi)"
   ]
  },
  {
   "cell_type": "code",
   "execution_count": null,
   "metadata": {},
   "outputs": [],
   "source": []
  }
 ],
 "metadata": {
  "kernelspec": {
   "display_name": "Python 3",
   "language": "python",
   "name": "python3"
  },
  "language_info": {
   "codemirror_mode": {
    "name": "ipython",
    "version": 3
   },
   "file_extension": ".py",
   "mimetype": "text/x-python",
   "name": "python",
   "nbconvert_exporter": "python",
   "pygments_lexer": "ipython3",
   "version": "3.11.7"
  }
 },
 "nbformat": 4,
 "nbformat_minor": 2
}
