{
 "cells": [
  {
   "cell_type": "code",
   "execution_count": 84,
   "metadata": {},
   "outputs": [],
   "source": [
    "\n",
    "import os\n",
    "import numpy as np"
   ]
  },
  {
   "cell_type": "code",
   "execution_count": 85,
   "metadata": {},
   "outputs": [],
   "source": [
    "\n",
    "class Circle:\n",
    "\n",
    "    pi = np.pi\n",
    "\n",
    "    def __init__(self, r):\n",
    "        self.r = r\n",
    "\n",
    "    def area(self):\n",
    "        return (1.0/2.0) * self.pi * self.r**2\n",
    "    \n",
    "    def circumference(self):\n",
    "        return 2.0 * self.pi * self.r"
   ]
  },
  {
   "cell_type": "code",
   "execution_count": 86,
   "metadata": {},
   "outputs": [],
   "source": [
    "r = 3.0\n",
    "C = Circle(r)"
   ]
  },
  {
   "cell_type": "code",
   "execution_count": 87,
   "metadata": {},
   "outputs": [
    {
     "name": "stdout",
     "output_type": "stream",
     "text": [
      "The value of pi is: 3.141592653589793\n",
      "The radius of the this circle is: 3.0\n",
      "The area of a cirlce with radius = 3.0 is: 14.137166941154069\n",
      "The circumference of that circle is: 18.84955592153876\n"
     ]
    }
   ],
   "source": [
    "print('The value of pi is:', C.pi)\n",
    "print('The radius of the this circle is:', C.r)\n",
    "print('The area of a cirlce with radius =', r, 'is:', C.area())\n",
    "print('The circumference of that circle is:', C.circumference())"
   ]
  },
  {
   "cell_type": "code",
   "execution_count": 90,
   "metadata": {},
   "outputs": [
    {
     "name": "stdout",
     "output_type": "stream",
     "text": [
      "Overwriting Shapes.py\n"
     ]
    }
   ],
   "source": [
    "%%writefile Shapes.py\n",
    "import numpy as np\n",
    "class Circle:\n",
    "\n",
    "    pi = np.pi\n",
    "\n",
    "    def __init__(self, r):\n",
    "        self.r = r\n",
    "\n",
    "    def area(self):\n",
    "        return (1.0/2.0) * self.pi * self.r**2\n",
    "    \n",
    "    def circumference(self):\n",
    "        return 2.0 * self.pi * self.r"
   ]
  },
  {
   "cell_type": "code",
   "execution_count": 91,
   "metadata": {},
   "outputs": [
    {
     "ename": "AttributeError",
     "evalue": "module 'Shapes' has no attribute 'Circle'",
     "output_type": "error",
     "traceback": [
      "\u001b[0;31m---------------------------------------------------------------------------\u001b[0m",
      "\u001b[0;31mAttributeError\u001b[0m                            Traceback (most recent call last)",
      "Cell \u001b[0;32mIn[91], line 3\u001b[0m\n\u001b[1;32m      1\u001b[0m \u001b[38;5;28;01mimport\u001b[39;00m \u001b[38;5;21;01mShapes\u001b[39;00m \u001b[38;5;28;01mas\u001b[39;00m \u001b[38;5;21;01mS\u001b[39;00m\n\u001b[0;32m----> 3\u001b[0m newCirc \u001b[38;5;241m=\u001b[39m \u001b[43mS\u001b[49m\u001b[38;5;241;43m.\u001b[39;49m\u001b[43mCircle\u001b[49m(\u001b[38;5;241m6.0\u001b[39m)\n\u001b[1;32m      4\u001b[0m \u001b[38;5;28mprint\u001b[39m(newCirc\u001b[38;5;241m.\u001b[39mpi)\n",
      "\u001b[0;31mAttributeError\u001b[0m: module 'Shapes' has no attribute 'Circle'"
     ]
    }
   ],
   "source": [
    "import Shapes as S\n",
    "\n",
    "newCirc = S.Circle(6.0)\n",
    "print(newCirc.pi)\n",
    "\n"
   ]
  },
  {
   "cell_type": "code",
   "execution_count": null,
   "metadata": {},
   "outputs": [
    {
     "ename": "AttributeError",
     "evalue": "module 'Shapes' has no attribute 'Circle'",
     "output_type": "error",
     "traceback": [
      "\u001b[0;31m---------------------------------------------------------------------------\u001b[0m",
      "\u001b[0;31mAttributeError\u001b[0m                            Traceback (most recent call last)",
      "Cell \u001b[0;32mIn[35], line 2\u001b[0m\n\u001b[1;32m      1\u001b[0m r \u001b[38;5;241m=\u001b[39m \u001b[38;5;241m3.0\u001b[39m\n\u001b[0;32m----> 2\u001b[0m C \u001b[38;5;241m=\u001b[39m \u001b[43mS\u001b[49m\u001b[38;5;241;43m.\u001b[39;49m\u001b[43mCircle\u001b[49m(r)\n\u001b[1;32m      3\u001b[0m \u001b[38;5;28mprint\u001b[39m(C\u001b[38;5;241m.\u001b[39mr)\n\u001b[1;32m      4\u001b[0m C\u001b[38;5;241m.\u001b[39mr \u001b[38;5;241m=\u001b[39m \u001b[38;5;241m7.0\u001b[39m\n",
      "\u001b[0;31mAttributeError\u001b[0m: module 'Shapes' has no attribute 'Circle'"
     ]
    }
   ],
   "source": [
    "r = 3.0\n",
    "C = S.Circle(r)\n",
    "print(C.r)\n",
    "C.r = 7.0\n",
    "print(C.r)\n"
   ]
  },
  {
   "cell_type": "code",
   "execution_count": null,
   "metadata": {},
   "outputs": [],
   "source": []
  }
 ],
 "metadata": {
  "kernelspec": {
   "display_name": "pangeo",
   "language": "python",
   "name": "python3"
  },
  "language_info": {
   "codemirror_mode": {
    "name": "ipython",
    "version": 3
   },
   "file_extension": ".py",
   "mimetype": "text/x-python",
   "name": "python",
   "nbconvert_exporter": "python",
   "pygments_lexer": "ipython3",
   "version": "3.11.7"
  }
 },
 "nbformat": 4,
 "nbformat_minor": 2
}
