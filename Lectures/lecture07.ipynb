{
 "cells": [
  {
   "cell_type": "code",
   "execution_count": 25,
   "metadata": {},
   "outputs": [],
   "source": [
    "import numpy as np\n",
    "import os"
   ]
  },
  {
   "cell_type": "code",
   "execution_count": 3,
   "metadata": {},
   "outputs": [
    {
     "name": "stdout",
     "output_type": "stream",
     "text": [
      "[[1. 1. 1.]\n",
      " [1. 1. 1.]]\n"
     ]
    }
   ],
   "source": [
    "E = np.ones((2,3))\n",
    "print(E)"
   ]
  },
  {
   "cell_type": "code",
   "execution_count": 4,
   "metadata": {},
   "outputs": [
    {
     "name": "stdout",
     "output_type": "stream",
     "text": [
      "[[42. 42. 42.]\n",
      " [42. 42. 42.]]\n"
     ]
    }
   ],
   "source": [
    "print(E*42)"
   ]
  },
  {
   "cell_type": "code",
   "execution_count": 5,
   "metadata": {},
   "outputs": [
    {
     "name": "stdout",
     "output_type": "stream",
     "text": [
      "[ 0.          0.76923077  1.53846154  2.30769231  3.07692308  3.84615385\n",
      "  4.61538462  5.38461538  6.15384615  6.92307692  7.69230769  8.46153846\n",
      "  9.23076923 10.        ]\n"
     ]
    }
   ],
   "source": [
    "F = np.linspace(0,10,14)\n",
    "print(F)"
   ]
  },
  {
   "cell_type": "code",
   "execution_count": 6,
   "metadata": {},
   "outputs": [
    {
     "name": "stdout",
     "output_type": "stream",
     "text": [
      "[[  66.07 -149.03]\n",
      " [  38.83 -122.8 ]\n",
      " [  32.92 -115.47]\n",
      " [  47.63 -122.51]\n",
      " [  60.97 -151.24]\n",
      " [  37.65 -118.85]\n",
      " [  53.2  -161.3 ]\n",
      " [  19.41 -155.28]\n",
      " [  38.84 -122.83]\n",
      " [  36.88  -89.12]]\n"
     ]
    }
   ],
   "source": [
    "newarray = np.loadtxt('../Datasets/RecentEarthquakes/earthquakeLocations.txt')\n",
    "print(newarray)"
   ]
  },
  {
   "cell_type": "code",
   "execution_count": 7,
   "metadata": {},
   "outputs": [
    {
     "data": {
      "text/plain": [
       "array([[1, 2, 3],\n",
       "       [4, 2, 0],\n",
       "       ['Xiao Long', 'Jill', 'Jose']], dtype=object)"
      ]
     },
     "execution_count": 7,
     "metadata": {},
     "output_type": "execute_result"
    }
   ],
   "source": [
    "np.array([[1, 2, 3], [4, 2, 0], ['Xiao Long', 'Jill', 'Jose']], dtype = 'object')"
   ]
  },
  {
   "cell_type": "code",
   "execution_count": 8,
   "metadata": {},
   "outputs": [
    {
     "name": "stdout",
     "output_type": "stream",
     "text": [
      "[[-1.49166815e-154 -1.29073897e-231]\n",
      " [ 6.93440171e-310  3.47478249e-309]]\n"
     ]
    }
   ],
   "source": [
    "G = np.ndarray(shape=(2,2), dtype=(float))\n",
    "print(G)"
   ]
  },
  {
   "cell_type": "code",
   "execution_count": 10,
   "metadata": {},
   "outputs": [
    {
     "name": "stdout",
     "output_type": "stream",
     "text": [
      "The dimensions of A are:  2\n"
     ]
    },
    {
     "data": {
      "text/plain": [
       "(3, 3)"
      ]
     },
     "execution_count": 10,
     "metadata": {},
     "output_type": "execute_result"
    }
   ],
   "source": [
    "A = np.array([[1, 2, 3], [4, 2, 0], [1, 1, 2]])\n",
    "print(\"The dimensions of A are: \", A.ndim)\n",
    "A.shape"
   ]
  },
  {
   "cell_type": "code",
   "execution_count": 11,
   "metadata": {},
   "outputs": [
    {
     "name": "stdout",
     "output_type": "stream",
     "text": [
      "B_real:\n",
      " [0.  0.2 0.4 0.6 0.8 1.  1.2 1.4 1.6 1.8 2.  2.2 2.4 2.6 2.8 3.  3.2 3.4\n",
      " 3.6 3.8 4.  4.2 4.4 4.6 4.8 5.  5.2 5.4 5.6 5.8 6.  6.2 6.4 6.6 6.8 7.\n",
      " 7.2 7.4 7.6 7.8 8.  8.2 8.4 8.6 8.8 9.  9.2 9.4 9.6 9.8]\n",
      "\n",
      "\n",
      "B_real after reshaping:\n",
      " [[0.  0.2 0.4 0.6 0.8 1.  1.2 1.4 1.6 1.8]\n",
      " [2.  2.2 2.4 2.6 2.8 3.  3.2 3.4 3.6 3.8]\n",
      " [4.  4.2 4.4 4.6 4.8 5.  5.2 5.4 5.6 5.8]\n",
      " [6.  6.2 6.4 6.6 6.8 7.  7.2 7.4 7.6 7.8]\n",
      " [8.  8.2 8.4 8.6 8.8 9.  9.2 9.4 9.6 9.8]]\n"
     ]
    }
   ],
   "source": [
    "B_real = np.arange(0, 10, 0.2) \n",
    "# We can take a 1-D array with 50 elements and reshape it into, say a 5 X 10 2-D array:\n",
    "B_real_2D = B_real.reshape((5, 10))\n",
    "print('B_real:\\n', B_real)\n",
    "print(\"\\n\")\n",
    "print('B_real after reshaping:\\n', B_real_2D)"
   ]
  },
  {
   "cell_type": "code",
   "execution_count": 13,
   "metadata": {},
   "outputs": [
    {
     "name": "stdout",
     "output_type": "stream",
     "text": [
      "[0.  0.2 0.4 0.6 0.8 1.  1.2 1.4 1.6 1.8 2.  2.2 2.4 2.6 2.8 3.  3.2 3.4\n",
      " 3.6 3.8 4.  4.2 4.4 4.6 4.8 5.  5.2 5.4 5.6 5.8 6.  6.2 6.4 6.6 6.8 7.\n",
      " 7.2 7.4 7.6 7.8 8.  8.2 8.4 8.6 8.8 9.  9.2 9.4 9.6 9.8]\n"
     ]
    }
   ],
   "source": [
    "B_real_1D = B_real_2D.flatten()\n",
    "print(B_real_1D)"
   ]
  },
  {
   "cell_type": "code",
   "execution_count": 16,
   "metadata": {},
   "outputs": [
    {
     "name": "stdout",
     "output_type": "stream",
     "text": [
      "[[0.  0.2 0.4 0.6 0.8 1.  1.2 1.4 1.6 1.8]\n",
      " [2.  2.2 2.4 2.6 2.8 3.  3.2 3.4 3.6 3.8]\n",
      " [4.  4.2 4.4 4.6 4.8 5.  5.2 5.4 5.6 5.8]\n",
      " [6.  6.2 6.4 6.6 6.8 7.  7.2 7.4 7.6 7.8]\n",
      " [8.  8.2 8.4 8.6 8.8 9.  9.2 9.4 9.6 9.8]]\n",
      "[[0.  2.  4.  6.  8. ]\n",
      " [0.2 2.2 4.2 6.2 8.2]\n",
      " [0.4 2.4 4.4 6.4 8.4]\n",
      " [0.6 2.6 4.6 6.6 8.6]\n",
      " [0.8 2.8 4.8 6.8 8.8]\n",
      " [1.  3.  5.  7.  9. ]\n",
      " [1.2 3.2 5.2 7.2 9.2]\n",
      " [1.4 3.4 5.4 7.4 9.4]\n",
      " [1.6 3.6 5.6 7.6 9.6]\n",
      " [1.8 3.8 5.8 7.8 9.8]]\n"
     ]
    }
   ],
   "source": [
    "print(B_real_2D)\n",
    "print(B_real_2D.transpose())"
   ]
  },
  {
   "cell_type": "code",
   "execution_count": 18,
   "metadata": {},
   "outputs": [
    {
     "name": "stdout",
     "output_type": "stream",
     "text": [
      "[[1 2 3]\n",
      " [4 2 0]]\n"
     ]
    }
   ],
   "source": [
    "B = A[0:2]\n",
    "print(B)"
   ]
  },
  {
   "cell_type": "code",
   "execution_count": 19,
   "metadata": {},
   "outputs": [
    {
     "name": "stdout",
     "output_type": "stream",
     "text": [
      "[ 6.  7.  8.  9. 10.]\n"
     ]
    }
   ],
   "source": [
    "time = np.linspace(0, 10, 11)\n",
    "lateTime = time[time  > 5.0]\n",
    "print(lateTime)"
   ]
  },
  {
   "cell_type": "code",
   "execution_count": 23,
   "metadata": {},
   "outputs": [
    {
     "name": "stdout",
     "output_type": "stream",
     "text": [
      "[0.         0.33333333 0.66666667 1.         1.33333333 1.66666667\n",
      " 2.         2.33333333 2.66666667 3.         3.33333333]\n",
      "[2.         2.33333333 2.66666667 3.         3.33333333]\n"
     ]
    }
   ],
   "source": [
    "distance = time / 3.0\n",
    "print(distance)\n",
    "lateDistance = distance[time > 5.0]\n",
    "print(lateDistance)"
   ]
  },
  {
   "cell_type": "code",
   "execution_count": 24,
   "metadata": {},
   "outputs": [
    {
     "name": "stdout",
     "output_type": "stream",
     "text": [
      "[False False False False False False  True  True  True  True  True]\n"
     ]
    }
   ],
   "source": [
    "boolTime = time > 5.0\n",
    "print(boolTime)"
   ]
  },
  {
   "cell_type": "code",
   "execution_count": 26,
   "metadata": {},
   "outputs": [],
   "source": [
    "np.savetxt('A.txt', A)"
   ]
  },
  {
   "cell_type": "code",
   "execution_count": 27,
   "metadata": {},
   "outputs": [],
   "source": [
    "os.remove('A.txt')"
   ]
  },
  {
   "cell_type": "code",
   "execution_count": null,
   "metadata": {},
   "outputs": [],
   "source": []
  }
 ],
 "metadata": {
  "kernelspec": {
   "display_name": "pangeo",
   "language": "python",
   "name": "python3"
  },
  "language_info": {
   "codemirror_mode": {
    "name": "ipython",
    "version": 3
   },
   "file_extension": ".py",
   "mimetype": "text/x-python",
   "name": "python",
   "nbconvert_exporter": "python",
   "pygments_lexer": "ipython3",
   "version": "3.11.7"
  }
 },
 "nbformat": 4,
 "nbformat_minor": 2
}
